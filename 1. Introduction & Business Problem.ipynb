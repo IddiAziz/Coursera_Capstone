{
    "cells": [
        {
            "cell_type": "markdown",
            "metadata": {
                "collapsed": true
            },
            "source": "## Capstone Project - The Battle of the Neighborhoods \n### Applied Data Science Capstone by IBM/Coursera\n### Week 4."
        },
        {
            "cell_type": "markdown",
            "metadata": {},
            "source": "## 1. Introduction: Business Problem <a name=\"introduction\"></a>"
        },
        {
            "cell_type": "markdown",
            "metadata": {},
            "source": "### 1.1 Background"
        },
        {
            "cell_type": "markdown",
            "metadata": {},
            "source": "As the capital of the United Kingdom, London is a large and bustling city with an incredible number of things to see and do. Visitors and residents alike are able to experience a modern, developed city that also holds a long royal history. \n\nWhat are the best and safest places to live in London? This is a question that will be asked by many people as they prepare for their next big move. However, what may be the best place in London for someone else, might not be the best place for you. It is a big decision that requires a lot of research. But we all know that; serene and safety environs is what everyone would think of when locating to a new place. Families, ambitious young professionals, and those seeking an adventure all yearns for a safety, comfortable, and peaceful environments. Safety they say brings first aid to the uninjured.\n\nIn our hunt for an apartment, Edward Coke's dictum \"Precaution is better than cure\" reminds that safety is deemed prudent and a top concern when relocating to a new place. There is no delight when you don't feel safe at home. The crime statistics will provide an insight into this issue.\n\nIn this project we will try to solve this problem by using location data and machine learning techniques to identify family friendly neighborhoods in London, UK. To determine which neighborhoods are deemed safe; we will focus on neighborhoods with low crime rates.\n"
        },
        {
            "cell_type": "markdown",
            "metadata": {},
            "source": "### 1.2. Problem"
        },
        {
            "cell_type": "markdown",
            "metadata": {},
            "source": "The London crime dataset obtained from Kaggle datasets, in it are crimes in each Boroughs of London ranging from 2008 to 2016. Though its been four (4) years now and crimes in each Borough might have changed over time. But in this project, we assume 2016 being the latest year. \n\nThis project aims to select the safest borough in London based on the total crimes, explore the neighborhoods of that borough to find the ten (10) most common venues in each neighborhood and finally cluster the neighborhoods using k-mean clustering.\n"
        },
        {
            "cell_type": "markdown",
            "metadata": {},
            "source": "### 1.2. Stakeholders Interest"
        },
        {
            "cell_type": "markdown",
            "metadata": {},
            "source": "This project is would be of interest to families looking for new homes, expats, stakeholders who offer housing to families or city planners who are looking to make neighborhoods safer. \n\nAdditionally, Police forces and safety officials would benefit from knowing which places have higher crimes so they can implement more resources in those locations to lower crime."
        },
        {
            "cell_type": "code",
            "execution_count": null,
            "metadata": {},
            "outputs": [],
            "source": ""
        }
    ],
    "metadata": {
        "kernelspec": {
            "display_name": "Python 3.6",
            "language": "python",
            "name": "python3"
        },
        "language_info": {
            "codemirror_mode": {
                "name": "ipython",
                "version": 3
            },
            "file_extension": ".py",
            "mimetype": "text/x-python",
            "name": "python",
            "nbconvert_exporter": "python",
            "pygments_lexer": "ipython3",
            "version": "3.6.9"
        }
    },
    "nbformat": 4,
    "nbformat_minor": 1
}